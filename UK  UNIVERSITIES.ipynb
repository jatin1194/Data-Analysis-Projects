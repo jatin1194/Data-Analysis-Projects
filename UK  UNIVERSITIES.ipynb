{
 "cells": [
  {
   "cell_type": "code",
   "execution_count": 5,
   "id": "f26ee37b-fde0-4855-b78b-1cb7235c836d",
   "metadata": {},
   "outputs": [],
   "source": [
    "import pandas as pd\n",
    "import numpy as np\n",
    "import matplotlib.pyplot as plt\n",
    "import seaborn as sns\n",
    "import warnings\n",
    "warnings.filterwarnings('ignore')"
   ]
  },
  {
   "cell_type": "code",
   "execution_count": 6,
   "id": "43c3eaef-d1ae-4a1d-8ea2-fdaeaba98d53",
   "metadata": {},
   "outputs": [],
   "source": [
    "df = pd.read_csv('uk_universities.csv')"
   ]
  },
  {
   "cell_type": "code",
   "execution_count": 7,
   "id": "97dc1e60-a413-437f-bde3-a9dea32ffc48",
   "metadata": {},
   "outputs": [
    {
     "data": {
      "text/html": [
       "<div>\n",
       "<style scoped>\n",
       "    .dataframe tbody tr th:only-of-type {\n",
       "        vertical-align: middle;\n",
       "    }\n",
       "\n",
       "    .dataframe tbody tr th {\n",
       "        vertical-align: top;\n",
       "    }\n",
       "\n",
       "    .dataframe thead th {\n",
       "        text-align: right;\n",
       "    }\n",
       "</style>\n",
       "<table border=\"1\" class=\"dataframe\">\n",
       "  <thead>\n",
       "    <tr style=\"text-align: right;\">\n",
       "      <th></th>\n",
       "      <th>University_name</th>\n",
       "      <th>Region</th>\n",
       "      <th>Founded_year</th>\n",
       "      <th>Motto</th>\n",
       "      <th>UK_rank</th>\n",
       "      <th>World_rank</th>\n",
       "      <th>CWUR_score</th>\n",
       "      <th>Minimum_IELTS_score</th>\n",
       "      <th>UG_average_fees_(in_pounds)</th>\n",
       "      <th>PG_average_fees_(in_pounds)</th>\n",
       "      <th>...</th>\n",
       "      <th>Student_satisfaction</th>\n",
       "      <th>Student_enrollment</th>\n",
       "      <th>Academic_staff</th>\n",
       "      <th>Control_type</th>\n",
       "      <th>Academic_Calender</th>\n",
       "      <th>Campus_setting</th>\n",
       "      <th>Estimated_cost_of_living_per_year_(in_pounds)</th>\n",
       "      <th>Latitude</th>\n",
       "      <th>Longitude</th>\n",
       "      <th>Website</th>\n",
       "    </tr>\n",
       "  </thead>\n",
       "  <tbody>\n",
       "    <tr>\n",
       "      <th>0</th>\n",
       "      <td>University of Cambridge</td>\n",
       "      <td>East of England</td>\n",
       "      <td>1209</td>\n",
       "      <td>From here, light and sacred draughts</td>\n",
       "      <td>1</td>\n",
       "      <td>4</td>\n",
       "      <td>94.1</td>\n",
       "      <td>6.5</td>\n",
       "      <td>21750</td>\n",
       "      <td>23187</td>\n",
       "      <td>...</td>\n",
       "      <td>85.50%</td>\n",
       "      <td>20,000-24,999</td>\n",
       "      <td>over-5,000</td>\n",
       "      <td>Public</td>\n",
       "      <td>Trimesters</td>\n",
       "      <td>Urban</td>\n",
       "      <td>12000</td>\n",
       "      <td>52.2054</td>\n",
       "      <td>0.1132</td>\n",
       "      <td>www.cam.ac.uk</td>\n",
       "    </tr>\n",
       "    <tr>\n",
       "      <th>1</th>\n",
       "      <td>University of Oxford</td>\n",
       "      <td>South East England</td>\n",
       "      <td>1096</td>\n",
       "      <td>The Lord is my light</td>\n",
       "      <td>2</td>\n",
       "      <td>2</td>\n",
       "      <td>93.3</td>\n",
       "      <td>6.5</td>\n",
       "      <td>21770</td>\n",
       "      <td>19888</td>\n",
       "      <td>...</td>\n",
       "      <td>86.50%</td>\n",
       "      <td>25,000-29,999</td>\n",
       "      <td>over-5,000</td>\n",
       "      <td>Public</td>\n",
       "      <td>Trimesters</td>\n",
       "      <td>Urban</td>\n",
       "      <td>11500</td>\n",
       "      <td>51.7548</td>\n",
       "      <td>-1.2544</td>\n",
       "      <td>www.ox.ac.uk</td>\n",
       "    </tr>\n",
       "    <tr>\n",
       "      <th>2</th>\n",
       "      <td>University of St Andrews</td>\n",
       "      <td>Scotland</td>\n",
       "      <td>1413</td>\n",
       "      <td>Ever to excel</td>\n",
       "      <td>3</td>\n",
       "      <td>86</td>\n",
       "      <td>75.8</td>\n",
       "      <td>6.5</td>\n",
       "      <td>17040</td>\n",
       "      <td>15440</td>\n",
       "      <td>...</td>\n",
       "      <td>87.90%</td>\n",
       "      <td>10,000-14,999</td>\n",
       "      <td>1,000-1,499</td>\n",
       "      <td>Public</td>\n",
       "      <td>Semesters</td>\n",
       "      <td>Suburban</td>\n",
       "      <td>12000</td>\n",
       "      <td>56.3417</td>\n",
       "      <td>-2.7943</td>\n",
       "      <td>www.st-andrews.ac.uk</td>\n",
       "    </tr>\n",
       "    <tr>\n",
       "      <th>3</th>\n",
       "      <td>Imperial College London</td>\n",
       "      <td>London</td>\n",
       "      <td>1907</td>\n",
       "      <td>Knowledge is the adornment and safeguard of th...</td>\n",
       "      <td>4</td>\n",
       "      <td>8</td>\n",
       "      <td>86.6</td>\n",
       "      <td>6.5</td>\n",
       "      <td>23500</td>\n",
       "      <td>29900</td>\n",
       "      <td>...</td>\n",
       "      <td>77.90%</td>\n",
       "      <td>15,000-19,999</td>\n",
       "      <td>4,000-4,499</td>\n",
       "      <td>Public</td>\n",
       "      <td>Continuous</td>\n",
       "      <td>Urban</td>\n",
       "      <td>10700</td>\n",
       "      <td>51.4988</td>\n",
       "      <td>-0.1749</td>\n",
       "      <td>www.ic.ac.uk</td>\n",
       "    </tr>\n",
       "    <tr>\n",
       "      <th>4</th>\n",
       "      <td>Loughborough University</td>\n",
       "      <td>East Midlands</td>\n",
       "      <td>1966</td>\n",
       "      <td>With Truth, Knowledge and Labour</td>\n",
       "      <td>5</td>\n",
       "      <td>404</td>\n",
       "      <td>72.8</td>\n",
       "      <td>5.5</td>\n",
       "      <td>16400</td>\n",
       "      <td>16400</td>\n",
       "      <td>...</td>\n",
       "      <td>85.80%</td>\n",
       "      <td>15,000-19,999</td>\n",
       "      <td>1,500-1,999</td>\n",
       "      <td>Public</td>\n",
       "      <td>Semesters</td>\n",
       "      <td>Suburban</td>\n",
       "      <td>9398</td>\n",
       "      <td>52.7650</td>\n",
       "      <td>-1.2321</td>\n",
       "      <td>www.lboro.ac.uk/</td>\n",
       "    </tr>\n",
       "  </tbody>\n",
       "</table>\n",
       "<p>5 rows × 21 columns</p>\n",
       "</div>"
      ],
      "text/plain": [
       "            University_name              Region  Founded_year  \\\n",
       "0   University of Cambridge     East of England          1209   \n",
       "1      University of Oxford  South East England          1096   \n",
       "2  University of St Andrews            Scotland          1413   \n",
       "3   Imperial College London              London          1907   \n",
       "4   Loughborough University       East Midlands          1966   \n",
       "\n",
       "                                               Motto  UK_rank  World_rank  \\\n",
       "0               From here, light and sacred draughts        1           4   \n",
       "1                               The Lord is my light        2           2   \n",
       "2                                      Ever to excel        3          86   \n",
       "3  Knowledge is the adornment and safeguard of th...        4           8   \n",
       "4                   With Truth, Knowledge and Labour        5         404   \n",
       "\n",
       "   CWUR_score  Minimum_IELTS_score  UG_average_fees_(in_pounds)  \\\n",
       "0        94.1                  6.5                        21750   \n",
       "1        93.3                  6.5                        21770   \n",
       "2        75.8                  6.5                        17040   \n",
       "3        86.6                  6.5                        23500   \n",
       "4        72.8                  5.5                        16400   \n",
       "\n",
       "   PG_average_fees_(in_pounds)  ... Student_satisfaction Student_enrollment  \\\n",
       "0                        23187  ...               85.50%      20,000-24,999   \n",
       "1                        19888  ...               86.50%      25,000-29,999   \n",
       "2                        15440  ...               87.90%      10,000-14,999   \n",
       "3                        29900  ...               77.90%      15,000-19,999   \n",
       "4                        16400  ...               85.80%      15,000-19,999   \n",
       "\n",
       "  Academic_staff Control_type Academic_Calender Campus_setting  \\\n",
       "0     over-5,000       Public        Trimesters          Urban   \n",
       "1     over-5,000       Public        Trimesters          Urban   \n",
       "2    1,000-1,499       Public         Semesters       Suburban   \n",
       "3    4,000-4,499       Public        Continuous          Urban   \n",
       "4    1,500-1,999       Public         Semesters       Suburban   \n",
       "\n",
       "  Estimated_cost_of_living_per_year_(in_pounds)  Latitude  Longitude  \\\n",
       "0                                         12000   52.2054     0.1132   \n",
       "1                                         11500   51.7548    -1.2544   \n",
       "2                                         12000   56.3417    -2.7943   \n",
       "3                                         10700   51.4988    -0.1749   \n",
       "4                                          9398   52.7650    -1.2321   \n",
       "\n",
       "                Website  \n",
       "0         www.cam.ac.uk  \n",
       "1          www.ox.ac.uk  \n",
       "2  www.st-andrews.ac.uk  \n",
       "3          www.ic.ac.uk  \n",
       "4      www.lboro.ac.uk/  \n",
       "\n",
       "[5 rows x 21 columns]"
      ]
     },
     "execution_count": 7,
     "metadata": {},
     "output_type": "execute_result"
    }
   ],
   "source": [
    "df.head()"
   ]
  },
  {
   "cell_type": "code",
   "execution_count": 8,
   "id": "89fef61e-65cc-4d12-a2a1-b72b0be4231b",
   "metadata": {},
   "outputs": [
    {
     "name": "stdout",
     "output_type": "stream",
     "text": [
      "<class 'pandas.core.frame.DataFrame'>\n",
      "RangeIndex: 131 entries, 0 to 130\n",
      "Data columns (total 21 columns):\n",
      " #   Column                                         Non-Null Count  Dtype  \n",
      "---  ------                                         --------------  -----  \n",
      " 0   University_name                                131 non-null    object \n",
      " 1   Region                                         131 non-null    object \n",
      " 2   Founded_year                                   131 non-null    int64  \n",
      " 3   Motto                                          114 non-null    object \n",
      " 4   UK_rank                                        131 non-null    int64  \n",
      " 5   World_rank                                     131 non-null    int64  \n",
      " 6   CWUR_score                                     84 non-null     float64\n",
      " 7   Minimum_IELTS_score                            131 non-null    float64\n",
      " 8   UG_average_fees_(in_pounds)                    131 non-null    int64  \n",
      " 9   PG_average_fees_(in_pounds)                    131 non-null    int64  \n",
      " 10  International_students                         131 non-null    object \n",
      " 11  Student_satisfaction                           131 non-null    object \n",
      " 12  Student_enrollment                             131 non-null    object \n",
      " 13  Academic_staff                                 131 non-null    object \n",
      " 14  Control_type                                   131 non-null    object \n",
      " 15  Academic_Calender                              105 non-null    object \n",
      " 16  Campus_setting                                 113 non-null    object \n",
      " 17  Estimated_cost_of_living_per_year_(in_pounds)  131 non-null    int64  \n",
      " 18  Latitude                                       131 non-null    float64\n",
      " 19  Longitude                                      131 non-null    float64\n",
      " 20  Website                                        131 non-null    object \n",
      "dtypes: float64(4), int64(6), object(11)\n",
      "memory usage: 21.6+ KB\n"
     ]
    }
   ],
   "source": [
    "df.info()"
   ]
  },
  {
   "cell_type": "code",
   "execution_count": 9,
   "id": "2056d46c-26e8-40c2-9b11-c1ca4063c47d",
   "metadata": {},
   "outputs": [
    {
     "data": {
      "text/html": [
       "<div>\n",
       "<style scoped>\n",
       "    .dataframe tbody tr th:only-of-type {\n",
       "        vertical-align: middle;\n",
       "    }\n",
       "\n",
       "    .dataframe tbody tr th {\n",
       "        vertical-align: top;\n",
       "    }\n",
       "\n",
       "    .dataframe thead th {\n",
       "        text-align: right;\n",
       "    }\n",
       "</style>\n",
       "<table border=\"1\" class=\"dataframe\">\n",
       "  <thead>\n",
       "    <tr style=\"text-align: right;\">\n",
       "      <th></th>\n",
       "      <th>University_name</th>\n",
       "      <th>Region</th>\n",
       "      <th>Founded_year</th>\n",
       "      <th>Motto</th>\n",
       "      <th>UK_rank</th>\n",
       "      <th>World_rank</th>\n",
       "      <th>CWUR_score</th>\n",
       "      <th>Minimum_IELTS_score</th>\n",
       "      <th>UG_average_fees_(in_pounds)</th>\n",
       "      <th>PG_average_fees_(in_pounds)</th>\n",
       "      <th>...</th>\n",
       "      <th>Student_satisfaction</th>\n",
       "      <th>Student_enrollment</th>\n",
       "      <th>Academic_staff</th>\n",
       "      <th>Control_type</th>\n",
       "      <th>Academic_Calender</th>\n",
       "      <th>Campus_setting</th>\n",
       "      <th>Estimated_cost_of_living_per_year_(in_pounds)</th>\n",
       "      <th>Latitude</th>\n",
       "      <th>Longitude</th>\n",
       "      <th>Website</th>\n",
       "    </tr>\n",
       "  </thead>\n",
       "  <tbody>\n",
       "    <tr>\n",
       "      <th>126</th>\n",
       "      <td>University of East London</td>\n",
       "      <td>London</td>\n",
       "      <td>1992</td>\n",
       "      <td>Science and fulfillment of vows</td>\n",
       "      <td>127</td>\n",
       "      <td>971</td>\n",
       "      <td>NaN</td>\n",
       "      <td>4.5</td>\n",
       "      <td>10700</td>\n",
       "      <td>11700</td>\n",
       "      <td>...</td>\n",
       "      <td>76.10%</td>\n",
       "      <td>10,000-14,999</td>\n",
       "      <td>900-999</td>\n",
       "      <td>Public</td>\n",
       "      <td>Semesters</td>\n",
       "      <td>Suburban</td>\n",
       "      <td>10229</td>\n",
       "      <td>51.5076</td>\n",
       "      <td>0.0651</td>\n",
       "      <td>www.uel.ac.uk</td>\n",
       "    </tr>\n",
       "    <tr>\n",
       "      <th>127</th>\n",
       "      <td>University of Bedfordshire</td>\n",
       "      <td>East of England</td>\n",
       "      <td>2006</td>\n",
       "      <td>NaN</td>\n",
       "      <td>128</td>\n",
       "      <td>1281</td>\n",
       "      <td>NaN</td>\n",
       "      <td>4.5</td>\n",
       "      <td>9750</td>\n",
       "      <td>9900</td>\n",
       "      <td>...</td>\n",
       "      <td>77.40%</td>\n",
       "      <td>10,000-14,999</td>\n",
       "      <td>500-599</td>\n",
       "      <td>Public</td>\n",
       "      <td>Semesters</td>\n",
       "      <td>Urban</td>\n",
       "      <td>9415</td>\n",
       "      <td>51.8779</td>\n",
       "      <td>-0.4093</td>\n",
       "      <td>www.beds.ac.uk</td>\n",
       "    </tr>\n",
       "    <tr>\n",
       "      <th>128</th>\n",
       "      <td>University of Suffolk</td>\n",
       "      <td>East of England</td>\n",
       "      <td>2007</td>\n",
       "      <td>Honesty and diligence</td>\n",
       "      <td>129</td>\n",
       "      <td>4030</td>\n",
       "      <td>NaN</td>\n",
       "      <td>4.5</td>\n",
       "      <td>9495</td>\n",
       "      <td>9495</td>\n",
       "      <td>...</td>\n",
       "      <td>76.00%</td>\n",
       "      <td>7,000-7,999</td>\n",
       "      <td>200-299</td>\n",
       "      <td>Public</td>\n",
       "      <td>NaN</td>\n",
       "      <td>NaN</td>\n",
       "      <td>9415</td>\n",
       "      <td>52.0523</td>\n",
       "      <td>1.1629</td>\n",
       "      <td>www.ucs.ac.uk/</td>\n",
       "    </tr>\n",
       "    <tr>\n",
       "      <th>129</th>\n",
       "      <td>Wrexham Glyndwr University</td>\n",
       "      <td>Wales</td>\n",
       "      <td>2008</td>\n",
       "      <td>Confidence through Education</td>\n",
       "      <td>130</td>\n",
       "      <td>2397</td>\n",
       "      <td>NaN</td>\n",
       "      <td>4.5</td>\n",
       "      <td>10250</td>\n",
       "      <td>10500</td>\n",
       "      <td>...</td>\n",
       "      <td>74.30%</td>\n",
       "      <td>5,000-5,999</td>\n",
       "      <td>200-299</td>\n",
       "      <td>Public</td>\n",
       "      <td>NaN</td>\n",
       "      <td>Urban</td>\n",
       "      <td>7771</td>\n",
       "      <td>53.0526</td>\n",
       "      <td>-3.0062</td>\n",
       "      <td>www.glyndwr.ac.uk/</td>\n",
       "    </tr>\n",
       "    <tr>\n",
       "      <th>130</th>\n",
       "      <td>Ravensbourne University London</td>\n",
       "      <td>London</td>\n",
       "      <td>1962</td>\n",
       "      <td>Designed for industry</td>\n",
       "      <td>131</td>\n",
       "      <td>2759</td>\n",
       "      <td>NaN</td>\n",
       "      <td>5.5</td>\n",
       "      <td>9250</td>\n",
       "      <td>9250</td>\n",
       "      <td>...</td>\n",
       "      <td>66.10%</td>\n",
       "      <td>2,000-2,999</td>\n",
       "      <td>100-199</td>\n",
       "      <td>Public</td>\n",
       "      <td>Semesters</td>\n",
       "      <td>Urban</td>\n",
       "      <td>10229</td>\n",
       "      <td>51.5017</td>\n",
       "      <td>0.0055</td>\n",
       "      <td>www.ravensbourne.ac.uk</td>\n",
       "    </tr>\n",
       "  </tbody>\n",
       "</table>\n",
       "<p>5 rows × 21 columns</p>\n",
       "</div>"
      ],
      "text/plain": [
       "                    University_name           Region  Founded_year  \\\n",
       "126       University of East London           London          1992   \n",
       "127      University of Bedfordshire  East of England          2006   \n",
       "128           University of Suffolk  East of England          2007   \n",
       "129      Wrexham Glyndwr University            Wales          2008   \n",
       "130  Ravensbourne University London           London          1962   \n",
       "\n",
       "                               Motto  UK_rank  World_rank  CWUR_score  \\\n",
       "126  Science and fulfillment of vows      127         971         NaN   \n",
       "127                              NaN      128        1281         NaN   \n",
       "128            Honesty and diligence      129        4030         NaN   \n",
       "129     Confidence through Education      130        2397         NaN   \n",
       "130            Designed for industry      131        2759         NaN   \n",
       "\n",
       "     Minimum_IELTS_score  UG_average_fees_(in_pounds)  \\\n",
       "126                  4.5                        10700   \n",
       "127                  4.5                         9750   \n",
       "128                  4.5                         9495   \n",
       "129                  4.5                        10250   \n",
       "130                  5.5                         9250   \n",
       "\n",
       "     PG_average_fees_(in_pounds)  ... Student_satisfaction Student_enrollment  \\\n",
       "126                        11700  ...               76.10%      10,000-14,999   \n",
       "127                         9900  ...               77.40%      10,000-14,999   \n",
       "128                         9495  ...               76.00%        7,000-7,999   \n",
       "129                        10500  ...               74.30%        5,000-5,999   \n",
       "130                         9250  ...               66.10%        2,000-2,999   \n",
       "\n",
       "    Academic_staff Control_type Academic_Calender Campus_setting  \\\n",
       "126        900-999       Public         Semesters       Suburban   \n",
       "127        500-599       Public         Semesters          Urban   \n",
       "128        200-299       Public               NaN            NaN   \n",
       "129        200-299       Public               NaN          Urban   \n",
       "130        100-199       Public         Semesters          Urban   \n",
       "\n",
       "    Estimated_cost_of_living_per_year_(in_pounds)  Latitude  Longitude  \\\n",
       "126                                         10229   51.5076     0.0651   \n",
       "127                                          9415   51.8779    -0.4093   \n",
       "128                                          9415   52.0523     1.1629   \n",
       "129                                          7771   53.0526    -3.0062   \n",
       "130                                         10229   51.5017     0.0055   \n",
       "\n",
       "                    Website  \n",
       "126           www.uel.ac.uk  \n",
       "127          www.beds.ac.uk  \n",
       "128          www.ucs.ac.uk/  \n",
       "129      www.glyndwr.ac.uk/  \n",
       "130  www.ravensbourne.ac.uk  \n",
       "\n",
       "[5 rows x 21 columns]"
      ]
     },
     "execution_count": 9,
     "metadata": {},
     "output_type": "execute_result"
    }
   ],
   "source": [
    "df.tail()"
   ]
  },
  {
   "cell_type": "code",
   "execution_count": 10,
   "id": "6210b88c-571f-47e5-805f-266b4faf2ce4",
   "metadata": {},
   "outputs": [
    {
     "data": {
      "text/plain": [
       "(131, 21)"
      ]
     },
     "execution_count": 10,
     "metadata": {},
     "output_type": "execute_result"
    }
   ],
   "source": [
    "df.shape"
   ]
  },
  {
   "cell_type": "code",
   "execution_count": 11,
   "id": "586cc5aa-835f-4dea-83c2-4f50e48ab4f4",
   "metadata": {},
   "outputs": [
    {
     "data": {
      "text/html": [
       "<div>\n",
       "<style scoped>\n",
       "    .dataframe tbody tr th:only-of-type {\n",
       "        vertical-align: middle;\n",
       "    }\n",
       "\n",
       "    .dataframe tbody tr th {\n",
       "        vertical-align: top;\n",
       "    }\n",
       "\n",
       "    .dataframe thead th {\n",
       "        text-align: right;\n",
       "    }\n",
       "</style>\n",
       "<table border=\"1\" class=\"dataframe\">\n",
       "  <thead>\n",
       "    <tr style=\"text-align: right;\">\n",
       "      <th></th>\n",
       "      <th>Founded_year</th>\n",
       "      <th>UK_rank</th>\n",
       "      <th>World_rank</th>\n",
       "      <th>CWUR_score</th>\n",
       "      <th>Minimum_IELTS_score</th>\n",
       "      <th>UG_average_fees_(in_pounds)</th>\n",
       "      <th>PG_average_fees_(in_pounds)</th>\n",
       "      <th>Estimated_cost_of_living_per_year_(in_pounds)</th>\n",
       "      <th>Latitude</th>\n",
       "      <th>Longitude</th>\n",
       "    </tr>\n",
       "  </thead>\n",
       "  <tbody>\n",
       "    <tr>\n",
       "      <th>count</th>\n",
       "      <td>131.000000</td>\n",
       "      <td>131.000000</td>\n",
       "      <td>131.00000</td>\n",
       "      <td>84.000000</td>\n",
       "      <td>131.000000</td>\n",
       "      <td>131.000000</td>\n",
       "      <td>131.000000</td>\n",
       "      <td>131.000000</td>\n",
       "      <td>131.000000</td>\n",
       "      <td>131.000000</td>\n",
       "    </tr>\n",
       "    <tr>\n",
       "      <th>mean</th>\n",
       "      <td>1925.221374</td>\n",
       "      <td>65.900763</td>\n",
       "      <td>1097.59542</td>\n",
       "      <td>73.960714</td>\n",
       "      <td>4.946565</td>\n",
       "      <td>12537.450382</td>\n",
       "      <td>13099.763359</td>\n",
       "      <td>8644.732824</td>\n",
       "      <td>52.749708</td>\n",
       "      <td>-1.673287</td>\n",
       "    </tr>\n",
       "    <tr>\n",
       "      <th>std</th>\n",
       "      <td>139.040187</td>\n",
       "      <td>37.922158</td>\n",
       "      <td>1145.00106</td>\n",
       "      <td>6.351473</td>\n",
       "      <td>0.617850</td>\n",
       "      <td>2555.318861</td>\n",
       "      <td>3106.398149</td>\n",
       "      <td>1579.049538</td>\n",
       "      <td>1.638257</td>\n",
       "      <td>1.503049</td>\n",
       "    </tr>\n",
       "    <tr>\n",
       "      <th>min</th>\n",
       "      <td>1096.000000</td>\n",
       "      <td>1.000000</td>\n",
       "      <td>2.00000</td>\n",
       "      <td>65.900000</td>\n",
       "      <td>4.000000</td>\n",
       "      <td>8350.000000</td>\n",
       "      <td>6000.000000</td>\n",
       "      <td>5500.000000</td>\n",
       "      <td>50.171300</td>\n",
       "      <td>-6.675200</td>\n",
       "    </tr>\n",
       "    <tr>\n",
       "      <th>25%</th>\n",
       "      <td>1896.000000</td>\n",
       "      <td>33.500000</td>\n",
       "      <td>196.00000</td>\n",
       "      <td>68.675000</td>\n",
       "      <td>4.500000</td>\n",
       "      <td>10758.000000</td>\n",
       "      <td>11250.000000</td>\n",
       "      <td>7710.500000</td>\n",
       "      <td>51.499700</td>\n",
       "      <td>-2.748000</td>\n",
       "    </tr>\n",
       "    <tr>\n",
       "      <th>50%</th>\n",
       "      <td>1966.000000</td>\n",
       "      <td>65.000000</td>\n",
       "      <td>691.00000</td>\n",
       "      <td>72.600000</td>\n",
       "      <td>4.500000</td>\n",
       "      <td>12000.000000</td>\n",
       "      <td>12500.000000</td>\n",
       "      <td>8217.000000</td>\n",
       "      <td>52.407400</td>\n",
       "      <td>-1.551600</td>\n",
       "    </tr>\n",
       "    <tr>\n",
       "      <th>75%</th>\n",
       "      <td>1992.000000</td>\n",
       "      <td>98.000000</td>\n",
       "      <td>1569.00000</td>\n",
       "      <td>77.700000</td>\n",
       "      <td>5.500000</td>\n",
       "      <td>13825.000000</td>\n",
       "      <td>14182.500000</td>\n",
       "      <td>9457.500000</td>\n",
       "      <td>53.608500</td>\n",
       "      <td>-0.388150</td>\n",
       "    </tr>\n",
       "    <tr>\n",
       "      <th>max</th>\n",
       "      <td>2013.000000</td>\n",
       "      <td>131.000000</td>\n",
       "      <td>5253.00000</td>\n",
       "      <td>94.100000</td>\n",
       "      <td>6.500000</td>\n",
       "      <td>23500.000000</td>\n",
       "      <td>29900.000000</td>\n",
       "      <td>15000.000000</td>\n",
       "      <td>57.164800</td>\n",
       "      <td>1.296700</td>\n",
       "    </tr>\n",
       "  </tbody>\n",
       "</table>\n",
       "</div>"
      ],
      "text/plain": [
       "       Founded_year     UK_rank  World_rank  CWUR_score  Minimum_IELTS_score  \\\n",
       "count    131.000000  131.000000   131.00000   84.000000           131.000000   \n",
       "mean    1925.221374   65.900763  1097.59542   73.960714             4.946565   \n",
       "std      139.040187   37.922158  1145.00106    6.351473             0.617850   \n",
       "min     1096.000000    1.000000     2.00000   65.900000             4.000000   \n",
       "25%     1896.000000   33.500000   196.00000   68.675000             4.500000   \n",
       "50%     1966.000000   65.000000   691.00000   72.600000             4.500000   \n",
       "75%     1992.000000   98.000000  1569.00000   77.700000             5.500000   \n",
       "max     2013.000000  131.000000  5253.00000   94.100000             6.500000   \n",
       "\n",
       "       UG_average_fees_(in_pounds)  PG_average_fees_(in_pounds)  \\\n",
       "count                   131.000000                   131.000000   \n",
       "mean                  12537.450382                 13099.763359   \n",
       "std                    2555.318861                  3106.398149   \n",
       "min                    8350.000000                  6000.000000   \n",
       "25%                   10758.000000                 11250.000000   \n",
       "50%                   12000.000000                 12500.000000   \n",
       "75%                   13825.000000                 14182.500000   \n",
       "max                   23500.000000                 29900.000000   \n",
       "\n",
       "       Estimated_cost_of_living_per_year_(in_pounds)    Latitude   Longitude  \n",
       "count                                     131.000000  131.000000  131.000000  \n",
       "mean                                     8644.732824   52.749708   -1.673287  \n",
       "std                                      1579.049538    1.638257    1.503049  \n",
       "min                                      5500.000000   50.171300   -6.675200  \n",
       "25%                                      7710.500000   51.499700   -2.748000  \n",
       "50%                                      8217.000000   52.407400   -1.551600  \n",
       "75%                                      9457.500000   53.608500   -0.388150  \n",
       "max                                     15000.000000   57.164800    1.296700  "
      ]
     },
     "execution_count": 11,
     "metadata": {},
     "output_type": "execute_result"
    }
   ],
   "source": [
    "df.describe()"
   ]
  },
  {
   "cell_type": "code",
   "execution_count": 12,
   "id": "d52f3c25-8716-4e1f-a635-a29f518013b6",
   "metadata": {},
   "outputs": [
    {
     "data": {
      "text/plain": [
       "University_name                                   0\n",
       "Region                                            0\n",
       "Founded_year                                      0\n",
       "Motto                                            17\n",
       "UK_rank                                           0\n",
       "World_rank                                        0\n",
       "CWUR_score                                       47\n",
       "Minimum_IELTS_score                               0\n",
       "UG_average_fees_(in_pounds)                       0\n",
       "PG_average_fees_(in_pounds)                       0\n",
       "International_students                            0\n",
       "Student_satisfaction                              0\n",
       "Student_enrollment                                0\n",
       "Academic_staff                                    0\n",
       "Control_type                                      0\n",
       "Academic_Calender                                26\n",
       "Campus_setting                                   18\n",
       "Estimated_cost_of_living_per_year_(in_pounds)     0\n",
       "Latitude                                          0\n",
       "Longitude                                         0\n",
       "Website                                           0\n",
       "dtype: int64"
      ]
     },
     "execution_count": 12,
     "metadata": {},
     "output_type": "execute_result"
    }
   ],
   "source": [
    "df.isnull().sum()"
   ]
  },
  {
   "cell_type": "code",
   "execution_count": 13,
   "id": "97eafe76-a40e-4ef2-a40c-0d0e4350dbda",
   "metadata": {},
   "outputs": [],
   "source": [
    "df.dropna(inplace=True)"
   ]
  },
  {
   "cell_type": "code",
   "execution_count": 14,
   "id": "25c6ee35-50d2-4d68-8862-4fe2ce9b0019",
   "metadata": {},
   "outputs": [
    {
     "data": {
      "text/plain": [
       "University_name                                  0\n",
       "Region                                           0\n",
       "Founded_year                                     0\n",
       "Motto                                            0\n",
       "UK_rank                                          0\n",
       "World_rank                                       0\n",
       "CWUR_score                                       0\n",
       "Minimum_IELTS_score                              0\n",
       "UG_average_fees_(in_pounds)                      0\n",
       "PG_average_fees_(in_pounds)                      0\n",
       "International_students                           0\n",
       "Student_satisfaction                             0\n",
       "Student_enrollment                               0\n",
       "Academic_staff                                   0\n",
       "Control_type                                     0\n",
       "Academic_Calender                                0\n",
       "Campus_setting                                   0\n",
       "Estimated_cost_of_living_per_year_(in_pounds)    0\n",
       "Latitude                                         0\n",
       "Longitude                                        0\n",
       "Website                                          0\n",
       "dtype: int64"
      ]
     },
     "execution_count": 14,
     "metadata": {},
     "output_type": "execute_result"
    }
   ],
   "source": [
    "df.isnull().sum()"
   ]
  },
  {
   "cell_type": "code",
   "execution_count": 15,
   "id": "fc384f3d-abf1-499a-8da8-3b30b924755f",
   "metadata": {},
   "outputs": [
    {
     "data": {
      "text/plain": [
       "['University_name',\n",
       " 'Region',\n",
       " 'Founded_year',\n",
       " 'Motto',\n",
       " 'UK_rank',\n",
       " 'World_rank',\n",
       " 'CWUR_score',\n",
       " 'Minimum_IELTS_score',\n",
       " 'UG_average_fees_(in_pounds)',\n",
       " 'PG_average_fees_(in_pounds)',\n",
       " 'International_students',\n",
       " 'Student_satisfaction',\n",
       " 'Student_enrollment',\n",
       " 'Academic_staff',\n",
       " 'Control_type',\n",
       " 'Academic_Calender',\n",
       " 'Campus_setting',\n",
       " 'Estimated_cost_of_living_per_year_(in_pounds)',\n",
       " 'Latitude',\n",
       " 'Longitude',\n",
       " 'Website']"
      ]
     },
     "execution_count": 15,
     "metadata": {},
     "output_type": "execute_result"
    }
   ],
   "source": [
    "list(df.columns)"
   ]
  },
  {
   "cell_type": "markdown",
   "id": "022db401-c0e6-48d2-883d-b1765f496483",
   "metadata": {},
   "source": [
    "# Universities in Same Region"
   ]
  },
  {
   "cell_type": "code",
   "execution_count": 16,
   "id": "7a6d0143-85d2-4eca-a69a-e182d67023df",
   "metadata": {},
   "outputs": [
    {
     "data": {
      "text/html": [
       "<div>\n",
       "<style scoped>\n",
       "    .dataframe tbody tr th:only-of-type {\n",
       "        vertical-align: middle;\n",
       "    }\n",
       "\n",
       "    .dataframe tbody tr th {\n",
       "        vertical-align: top;\n",
       "    }\n",
       "\n",
       "    .dataframe thead th {\n",
       "        text-align: right;\n",
       "    }\n",
       "</style>\n",
       "<table border=\"1\" class=\"dataframe\">\n",
       "  <thead>\n",
       "    <tr style=\"text-align: right;\">\n",
       "      <th></th>\n",
       "      <th>University_name</th>\n",
       "      <th>Region</th>\n",
       "    </tr>\n",
       "  </thead>\n",
       "  <tbody>\n",
       "    <tr>\n",
       "      <th>40</th>\n",
       "      <td>University of Leicester</td>\n",
       "      <td>East Midlands</td>\n",
       "    </tr>\n",
       "    <tr>\n",
       "      <th>4</th>\n",
       "      <td>Loughborough University</td>\n",
       "      <td>East Midlands</td>\n",
       "    </tr>\n",
       "    <tr>\n",
       "      <th>20</th>\n",
       "      <td>University of Nottingham</td>\n",
       "      <td>East Midlands</td>\n",
       "    </tr>\n",
       "    <tr>\n",
       "      <th>0</th>\n",
       "      <td>University of Cambridge</td>\n",
       "      <td>East of England</td>\n",
       "    </tr>\n",
       "    <tr>\n",
       "      <th>87</th>\n",
       "      <td>University of Hertfordshire</td>\n",
       "      <td>East of England</td>\n",
       "    </tr>\n",
       "    <tr>\n",
       "      <th>...</th>\n",
       "      <td>...</td>\n",
       "      <td>...</td>\n",
       "    </tr>\n",
       "    <tr>\n",
       "      <th>60</th>\n",
       "      <td>University of Huddersfield</td>\n",
       "      <td>Yorkshire and the Humber</td>\n",
       "    </tr>\n",
       "    <tr>\n",
       "      <th>104</th>\n",
       "      <td>University of Bradford</td>\n",
       "      <td>Yorkshire and the Humber</td>\n",
       "    </tr>\n",
       "    <tr>\n",
       "      <th>21</th>\n",
       "      <td>University of York</td>\n",
       "      <td>Yorkshire and the Humber</td>\n",
       "    </tr>\n",
       "    <tr>\n",
       "      <th>12</th>\n",
       "      <td>University of Leeds</td>\n",
       "      <td>Yorkshire and the Humber</td>\n",
       "    </tr>\n",
       "    <tr>\n",
       "      <th>65</th>\n",
       "      <td>Sheffield Hallam University</td>\n",
       "      <td>Yorkshire and the Humber</td>\n",
       "    </tr>\n",
       "  </tbody>\n",
       "</table>\n",
       "<p>63 rows × 2 columns</p>\n",
       "</div>"
      ],
      "text/plain": [
       "                 University_name                    Region\n",
       "40       University of Leicester             East Midlands\n",
       "4        Loughborough University             East Midlands\n",
       "20      University of Nottingham             East Midlands\n",
       "0        University of Cambridge           East of England\n",
       "87   University of Hertfordshire           East of England\n",
       "..                           ...                       ...\n",
       "60    University of Huddersfield  Yorkshire and the Humber\n",
       "104       University of Bradford  Yorkshire and the Humber\n",
       "21            University of York  Yorkshire and the Humber\n",
       "12           University of Leeds  Yorkshire and the Humber\n",
       "65   Sheffield Hallam University  Yorkshire and the Humber\n",
       "\n",
       "[63 rows x 2 columns]"
      ]
     },
     "execution_count": 16,
     "metadata": {},
     "output_type": "execute_result"
    }
   ],
   "source": [
    "intstudent=df.sort_values('Region')\n",
    "intstudent.iloc[:,[0,1]]"
   ]
  },
  {
   "cell_type": "markdown",
   "id": "651e943c-c171-4d1a-a333-0917bb646520",
   "metadata": {},
   "source": [
    "# Universities Founded In Same Year"
   ]
  },
  {
   "cell_type": "code",
   "execution_count": 17,
   "id": "da33e8b2-bd93-450e-93a1-b72e0181294a",
   "metadata": {},
   "outputs": [
    {
     "data": {
      "text/html": [
       "<div>\n",
       "<style scoped>\n",
       "    .dataframe tbody tr th:only-of-type {\n",
       "        vertical-align: middle;\n",
       "    }\n",
       "\n",
       "    .dataframe tbody tr th {\n",
       "        vertical-align: top;\n",
       "    }\n",
       "\n",
       "    .dataframe thead th {\n",
       "        text-align: right;\n",
       "    }\n",
       "</style>\n",
       "<table border=\"1\" class=\"dataframe\">\n",
       "  <thead>\n",
       "    <tr style=\"text-align: right;\">\n",
       "      <th></th>\n",
       "      <th>University_name</th>\n",
       "      <th>Founded_year</th>\n",
       "    </tr>\n",
       "  </thead>\n",
       "  <tbody>\n",
       "    <tr>\n",
       "      <th>1</th>\n",
       "      <td>University of Oxford</td>\n",
       "      <td>1096</td>\n",
       "    </tr>\n",
       "    <tr>\n",
       "      <th>0</th>\n",
       "      <td>University of Cambridge</td>\n",
       "      <td>1209</td>\n",
       "    </tr>\n",
       "    <tr>\n",
       "      <th>2</th>\n",
       "      <td>University of St Andrews</td>\n",
       "      <td>1413</td>\n",
       "    </tr>\n",
       "    <tr>\n",
       "      <th>15</th>\n",
       "      <td>University of Glasgow</td>\n",
       "      <td>1451</td>\n",
       "    </tr>\n",
       "    <tr>\n",
       "      <th>26</th>\n",
       "      <td>University of Aberdeen</td>\n",
       "      <td>1495</td>\n",
       "    </tr>\n",
       "    <tr>\n",
       "      <th>...</th>\n",
       "      <td>...</td>\n",
       "      <td>...</td>\n",
       "    </tr>\n",
       "    <tr>\n",
       "      <th>74</th>\n",
       "      <td>University of Central Lancashire</td>\n",
       "      <td>1992</td>\n",
       "    </tr>\n",
       "    <tr>\n",
       "      <th>77</th>\n",
       "      <td>Liverpool John Moores University</td>\n",
       "      <td>1992</td>\n",
       "    </tr>\n",
       "    <tr>\n",
       "      <th>100</th>\n",
       "      <td>Edinburgh Napier University</td>\n",
       "      <td>1992</td>\n",
       "    </tr>\n",
       "    <tr>\n",
       "      <th>96</th>\n",
       "      <td>Glasgow Caledonian University</td>\n",
       "      <td>1993</td>\n",
       "    </tr>\n",
       "    <tr>\n",
       "      <th>33</th>\n",
       "      <td>Cardiff University</td>\n",
       "      <td>1997</td>\n",
       "    </tr>\n",
       "  </tbody>\n",
       "</table>\n",
       "<p>63 rows × 2 columns</p>\n",
       "</div>"
      ],
      "text/plain": [
       "                      University_name  Founded_year\n",
       "1                University of Oxford          1096\n",
       "0             University of Cambridge          1209\n",
       "2            University of St Andrews          1413\n",
       "15              University of Glasgow          1451\n",
       "26             University of Aberdeen          1495\n",
       "..                                ...           ...\n",
       "74   University of Central Lancashire          1992\n",
       "77   Liverpool John Moores University          1992\n",
       "100       Edinburgh Napier University          1992\n",
       "96      Glasgow Caledonian University          1993\n",
       "33                 Cardiff University          1997\n",
       "\n",
       "[63 rows x 2 columns]"
      ]
     },
     "execution_count": 17,
     "metadata": {},
     "output_type": "execute_result"
    }
   ],
   "source": [
    "foundedyear=df.sort_values('Founded_year')\n",
    "foundedyear.iloc[:,[0,2]]"
   ]
  },
  {
   "cell_type": "markdown",
   "id": "2feda1f7-02fa-4021-ab8e-ba6d21da896e",
   "metadata": {},
   "source": [
    "# University with UG average fee in acending order"
   ]
  },
  {
   "cell_type": "code",
   "execution_count": 18,
   "id": "9eeaffa7-16bc-40e3-8829-6a5ad657cd5f",
   "metadata": {},
   "outputs": [
    {
     "data": {
      "text/html": [
       "<div>\n",
       "<style scoped>\n",
       "    .dataframe tbody tr th:only-of-type {\n",
       "        vertical-align: middle;\n",
       "    }\n",
       "\n",
       "    .dataframe tbody tr th {\n",
       "        vertical-align: top;\n",
       "    }\n",
       "\n",
       "    .dataframe thead th {\n",
       "        text-align: right;\n",
       "    }\n",
       "</style>\n",
       "<table border=\"1\" class=\"dataframe\">\n",
       "  <thead>\n",
       "    <tr style=\"text-align: right;\">\n",
       "      <th></th>\n",
       "      <th>University_name</th>\n",
       "      <th>UG_average_fees_(in_pounds)</th>\n",
       "    </tr>\n",
       "  </thead>\n",
       "  <tbody>\n",
       "    <tr>\n",
       "      <th>96</th>\n",
       "      <td>Glasgow Caledonian University</td>\n",
       "      <td>10467</td>\n",
       "    </tr>\n",
       "    <tr>\n",
       "      <th>44</th>\n",
       "      <td>Aberystwyth University</td>\n",
       "      <td>10500</td>\n",
       "    </tr>\n",
       "    <tr>\n",
       "      <th>119</th>\n",
       "      <td>Anglia Ruskin University</td>\n",
       "      <td>10500</td>\n",
       "    </tr>\n",
       "    <tr>\n",
       "      <th>49</th>\n",
       "      <td>Coventry University</td>\n",
       "      <td>10766</td>\n",
       "    </tr>\n",
       "    <tr>\n",
       "      <th>83</th>\n",
       "      <td>University of Greenwich</td>\n",
       "      <td>10850</td>\n",
       "    </tr>\n",
       "    <tr>\n",
       "      <th>...</th>\n",
       "      <td>...</td>\n",
       "      <td>...</td>\n",
       "    </tr>\n",
       "    <tr>\n",
       "      <th>5</th>\n",
       "      <td>London School of Economics and Political Science</td>\n",
       "      <td>17040</td>\n",
       "    </tr>\n",
       "    <tr>\n",
       "      <th>21</th>\n",
       "      <td>University of York</td>\n",
       "      <td>17890</td>\n",
       "    </tr>\n",
       "    <tr>\n",
       "      <th>0</th>\n",
       "      <td>University of Cambridge</td>\n",
       "      <td>21750</td>\n",
       "    </tr>\n",
       "    <tr>\n",
       "      <th>1</th>\n",
       "      <td>University of Oxford</td>\n",
       "      <td>21770</td>\n",
       "    </tr>\n",
       "    <tr>\n",
       "      <th>3</th>\n",
       "      <td>Imperial College London</td>\n",
       "      <td>23500</td>\n",
       "    </tr>\n",
       "  </tbody>\n",
       "</table>\n",
       "<p>63 rows × 2 columns</p>\n",
       "</div>"
      ],
      "text/plain": [
       "                                      University_name  \\\n",
       "96                      Glasgow Caledonian University   \n",
       "44                             Aberystwyth University   \n",
       "119                          Anglia Ruskin University   \n",
       "49                                Coventry University   \n",
       "83                            University of Greenwich   \n",
       "..                                                ...   \n",
       "5    London School of Economics and Political Science   \n",
       "21                                 University of York   \n",
       "0                             University of Cambridge   \n",
       "1                                University of Oxford   \n",
       "3                             Imperial College London   \n",
       "\n",
       "     UG_average_fees_(in_pounds)  \n",
       "96                         10467  \n",
       "44                         10500  \n",
       "119                        10500  \n",
       "49                         10766  \n",
       "83                         10850  \n",
       "..                           ...  \n",
       "5                          17040  \n",
       "21                         17890  \n",
       "0                          21750  \n",
       "1                          21770  \n",
       "3                          23500  \n",
       "\n",
       "[63 rows x 2 columns]"
      ]
     },
     "execution_count": 18,
     "metadata": {},
     "output_type": "execute_result"
    }
   ],
   "source": [
    "ugavgfee=df.sort_values('UG_average_fees_(in_pounds)')\n",
    "ugavgfee.iloc[:,[0,8]]"
   ]
  },
  {
   "cell_type": "markdown",
   "id": "3c1711c5-25ef-4817-b693-2c611415fc4f",
   "metadata": {},
   "source": [
    "# University with PG average fee in acending order"
   ]
  },
  {
   "cell_type": "code",
   "execution_count": 19,
   "id": "7fce6b09-2a4d-4d9d-8fc5-f74111bf03bc",
   "metadata": {},
   "outputs": [
    {
     "data": {
      "text/html": [
       "<div>\n",
       "<style scoped>\n",
       "    .dataframe tbody tr th:only-of-type {\n",
       "        vertical-align: middle;\n",
       "    }\n",
       "\n",
       "    .dataframe tbody tr th {\n",
       "        vertical-align: top;\n",
       "    }\n",
       "\n",
       "    .dataframe thead th {\n",
       "        text-align: right;\n",
       "    }\n",
       "</style>\n",
       "<table border=\"1\" class=\"dataframe\">\n",
       "  <thead>\n",
       "    <tr style=\"text-align: right;\">\n",
       "      <th></th>\n",
       "      <th>University_name</th>\n",
       "      <th>PG_average_fees_(in_pounds)</th>\n",
       "    </tr>\n",
       "  </thead>\n",
       "  <tbody>\n",
       "    <tr>\n",
       "      <th>119</th>\n",
       "      <td>Anglia Ruskin University</td>\n",
       "      <td>10500</td>\n",
       "    </tr>\n",
       "    <tr>\n",
       "      <th>49</th>\n",
       "      <td>Coventry University</td>\n",
       "      <td>10689</td>\n",
       "    </tr>\n",
       "    <tr>\n",
       "      <th>107</th>\n",
       "      <td>University of the West of Scotland</td>\n",
       "      <td>11000</td>\n",
       "    </tr>\n",
       "    <tr>\n",
       "      <th>77</th>\n",
       "      <td>Liverpool John Moores University</td>\n",
       "      <td>11000</td>\n",
       "    </tr>\n",
       "    <tr>\n",
       "      <th>96</th>\n",
       "      <td>Glasgow Caledonian University</td>\n",
       "      <td>11133</td>\n",
       "    </tr>\n",
       "    <tr>\n",
       "      <th>...</th>\n",
       "      <td>...</td>\n",
       "      <td>...</td>\n",
       "    </tr>\n",
       "    <tr>\n",
       "      <th>1</th>\n",
       "      <td>University of Oxford</td>\n",
       "      <td>19888</td>\n",
       "    </tr>\n",
       "    <tr>\n",
       "      <th>0</th>\n",
       "      <td>University of Cambridge</td>\n",
       "      <td>23187</td>\n",
       "    </tr>\n",
       "    <tr>\n",
       "      <th>5</th>\n",
       "      <td>London School of Economics and Political Science</td>\n",
       "      <td>24500</td>\n",
       "    </tr>\n",
       "    <tr>\n",
       "      <th>9</th>\n",
       "      <td>University of Warwick</td>\n",
       "      <td>24500</td>\n",
       "    </tr>\n",
       "    <tr>\n",
       "      <th>3</th>\n",
       "      <td>Imperial College London</td>\n",
       "      <td>29900</td>\n",
       "    </tr>\n",
       "  </tbody>\n",
       "</table>\n",
       "<p>63 rows × 2 columns</p>\n",
       "</div>"
      ],
      "text/plain": [
       "                                      University_name  \\\n",
       "119                          Anglia Ruskin University   \n",
       "49                                Coventry University   \n",
       "107                University of the West of Scotland   \n",
       "77                   Liverpool John Moores University   \n",
       "96                      Glasgow Caledonian University   \n",
       "..                                                ...   \n",
       "1                                University of Oxford   \n",
       "0                             University of Cambridge   \n",
       "5    London School of Economics and Political Science   \n",
       "9                               University of Warwick   \n",
       "3                             Imperial College London   \n",
       "\n",
       "     PG_average_fees_(in_pounds)  \n",
       "119                        10500  \n",
       "49                         10689  \n",
       "107                        11000  \n",
       "77                         11000  \n",
       "96                         11133  \n",
       "..                           ...  \n",
       "1                          19888  \n",
       "0                          23187  \n",
       "5                          24500  \n",
       "9                          24500  \n",
       "3                          29900  \n",
       "\n",
       "[63 rows x 2 columns]"
      ]
     },
     "execution_count": 19,
     "metadata": {},
     "output_type": "execute_result"
    }
   ],
   "source": [
    "pgavgfee=df.sort_values('PG_average_fees_(in_pounds)')\n",
    "pgavgfee.iloc[:,[0,9]]"
   ]
  },
  {
   "cell_type": "markdown",
   "id": "22dc8e0d-f701-4432-a531-d95eef14e847",
   "metadata": {},
   "source": [
    "# University with international student in acending order"
   ]
  },
  {
   "cell_type": "code",
   "execution_count": 20,
   "id": "d89a6b0a-8cb6-4e40-85d6-930a8a8f12ae",
   "metadata": {},
   "outputs": [
    {
     "data": {
      "text/html": [
       "<div>\n",
       "<style scoped>\n",
       "    .dataframe tbody tr th:only-of-type {\n",
       "        vertical-align: middle;\n",
       "    }\n",
       "\n",
       "    .dataframe tbody tr th {\n",
       "        vertical-align: top;\n",
       "    }\n",
       "\n",
       "    .dataframe thead th {\n",
       "        text-align: right;\n",
       "    }\n",
       "</style>\n",
       "<table border=\"1\" class=\"dataframe\">\n",
       "  <thead>\n",
       "    <tr style=\"text-align: right;\">\n",
       "      <th></th>\n",
       "      <th>University_name</th>\n",
       "      <th>International_students</th>\n",
       "    </tr>\n",
       "  </thead>\n",
       "  <tbody>\n",
       "    <tr>\n",
       "      <th>119</th>\n",
       "      <td>Anglia Ruskin University</td>\n",
       "      <td>10.40%</td>\n",
       "    </tr>\n",
       "    <tr>\n",
       "      <th>64</th>\n",
       "      <td>Northumbria University</td>\n",
       "      <td>10.50%</td>\n",
       "    </tr>\n",
       "    <tr>\n",
       "      <th>110</th>\n",
       "      <td>University of Salford</td>\n",
       "      <td>11.10%</td>\n",
       "    </tr>\n",
       "    <tr>\n",
       "      <th>57</th>\n",
       "      <td>University of the West of England</td>\n",
       "      <td>11.60%</td>\n",
       "    </tr>\n",
       "    <tr>\n",
       "      <th>46</th>\n",
       "      <td>University of Stirling</td>\n",
       "      <td>11.80%</td>\n",
       "    </tr>\n",
       "    <tr>\n",
       "      <th>...</th>\n",
       "      <td>...</td>\n",
       "      <td>...</td>\n",
       "    </tr>\n",
       "    <tr>\n",
       "      <th>96</th>\n",
       "      <td>Glasgow Caledonian University</td>\n",
       "      <td>8.10%</td>\n",
       "    </tr>\n",
       "    <tr>\n",
       "      <th>74</th>\n",
       "      <td>University of Central Lancashire</td>\n",
       "      <td>8.50%</td>\n",
       "    </tr>\n",
       "    <tr>\n",
       "      <th>34</th>\n",
       "      <td>Queen's University Belfast</td>\n",
       "      <td>8.70%</td>\n",
       "    </tr>\n",
       "    <tr>\n",
       "      <th>50</th>\n",
       "      <td>University of Lincoln</td>\n",
       "      <td>9.40%</td>\n",
       "    </tr>\n",
       "    <tr>\n",
       "      <th>76</th>\n",
       "      <td>University of Hull</td>\n",
       "      <td>9.60%</td>\n",
       "    </tr>\n",
       "  </tbody>\n",
       "</table>\n",
       "<p>63 rows × 2 columns</p>\n",
       "</div>"
      ],
      "text/plain": [
       "                       University_name International_students\n",
       "119           Anglia Ruskin University                 10.40%\n",
       "64              Northumbria University                 10.50%\n",
       "110              University of Salford                 11.10%\n",
       "57   University of the West of England                 11.60%\n",
       "46              University of Stirling                 11.80%\n",
       "..                                 ...                    ...\n",
       "96       Glasgow Caledonian University                  8.10%\n",
       "74    University of Central Lancashire                  8.50%\n",
       "34          Queen's University Belfast                  8.70%\n",
       "50               University of Lincoln                  9.40%\n",
       "76                  University of Hull                  9.60%\n",
       "\n",
       "[63 rows x 2 columns]"
      ]
     },
     "execution_count": 20,
     "metadata": {},
     "output_type": "execute_result"
    }
   ],
   "source": [
    "INstudent=df.sort_values('International_students')\n",
    "INstudent.iloc[:,[0,10]]"
   ]
  },
  {
   "cell_type": "markdown",
   "id": "d6983f08-858c-4a17-8e23-e432e798cce8",
   "metadata": {},
   "source": [
    "# University with world ranking in acending order"
   ]
  },
  {
   "cell_type": "code",
   "execution_count": 21,
   "id": "29eceb5e-6f05-420a-8a34-6c2bc9c28c84",
   "metadata": {},
   "outputs": [
    {
     "data": {
      "text/html": [
       "<div>\n",
       "<style scoped>\n",
       "    .dataframe tbody tr th:only-of-type {\n",
       "        vertical-align: middle;\n",
       "    }\n",
       "\n",
       "    .dataframe tbody tr th {\n",
       "        vertical-align: top;\n",
       "    }\n",
       "\n",
       "    .dataframe thead th {\n",
       "        text-align: right;\n",
       "    }\n",
       "</style>\n",
       "<table border=\"1\" class=\"dataframe\">\n",
       "  <thead>\n",
       "    <tr style=\"text-align: right;\">\n",
       "      <th></th>\n",
       "      <th>University_name</th>\n",
       "      <th>World_rank</th>\n",
       "    </tr>\n",
       "  </thead>\n",
       "  <tbody>\n",
       "    <tr>\n",
       "      <th>1</th>\n",
       "      <td>University of Oxford</td>\n",
       "      <td>2</td>\n",
       "    </tr>\n",
       "    <tr>\n",
       "      <th>0</th>\n",
       "      <td>University of Cambridge</td>\n",
       "      <td>4</td>\n",
       "    </tr>\n",
       "    <tr>\n",
       "      <th>3</th>\n",
       "      <td>Imperial College London</td>\n",
       "      <td>8</td>\n",
       "    </tr>\n",
       "    <tr>\n",
       "      <th>8</th>\n",
       "      <td>University College London</td>\n",
       "      <td>14</td>\n",
       "    </tr>\n",
       "    <tr>\n",
       "      <th>5</th>\n",
       "      <td>London School of Economics and Political Science</td>\n",
       "      <td>23</td>\n",
       "    </tr>\n",
       "    <tr>\n",
       "      <th>...</th>\n",
       "      <td>...</td>\n",
       "      <td>...</td>\n",
       "    </tr>\n",
       "    <tr>\n",
       "      <th>50</th>\n",
       "      <td>University of Lincoln</td>\n",
       "      <td>877</td>\n",
       "    </tr>\n",
       "    <tr>\n",
       "      <th>60</th>\n",
       "      <td>University of Huddersfield</td>\n",
       "      <td>1111</td>\n",
       "    </tr>\n",
       "    <tr>\n",
       "      <th>96</th>\n",
       "      <td>Glasgow Caledonian University</td>\n",
       "      <td>1284</td>\n",
       "    </tr>\n",
       "    <tr>\n",
       "      <th>104</th>\n",
       "      <td>University of Bradford</td>\n",
       "      <td>1392</td>\n",
       "    </tr>\n",
       "    <tr>\n",
       "      <th>107</th>\n",
       "      <td>University of the West of Scotland</td>\n",
       "      <td>1905</td>\n",
       "    </tr>\n",
       "  </tbody>\n",
       "</table>\n",
       "<p>63 rows × 2 columns</p>\n",
       "</div>"
      ],
      "text/plain": [
       "                                      University_name  World_rank\n",
       "1                                University of Oxford           2\n",
       "0                             University of Cambridge           4\n",
       "3                             Imperial College London           8\n",
       "8                           University College London          14\n",
       "5    London School of Economics and Political Science          23\n",
       "..                                                ...         ...\n",
       "50                              University of Lincoln         877\n",
       "60                         University of Huddersfield        1111\n",
       "96                      Glasgow Caledonian University        1284\n",
       "104                            University of Bradford        1392\n",
       "107                University of the West of Scotland        1905\n",
       "\n",
       "[63 rows x 2 columns]"
      ]
     },
     "execution_count": 21,
     "metadata": {},
     "output_type": "execute_result"
    }
   ],
   "source": [
    "worldrank=df.sort_values('World_rank')\n",
    "worldrank.iloc[:,[0,5]]"
   ]
  },
  {
   "cell_type": "markdown",
   "id": "f5eadbd9-46bb-453e-a939-57dd76ca686e",
   "metadata": {},
   "source": [
    "# university with high student satisfaction"
   ]
  },
  {
   "cell_type": "code",
   "execution_count": 22,
   "id": "f7c75064-fd5f-4243-af1f-47f9196b8518",
   "metadata": {},
   "outputs": [
    {
     "data": {
      "text/html": [
       "<div>\n",
       "<style scoped>\n",
       "    .dataframe tbody tr th:only-of-type {\n",
       "        vertical-align: middle;\n",
       "    }\n",
       "\n",
       "    .dataframe tbody tr th {\n",
       "        vertical-align: top;\n",
       "    }\n",
       "\n",
       "    .dataframe thead th {\n",
       "        text-align: right;\n",
       "    }\n",
       "</style>\n",
       "<table border=\"1\" class=\"dataframe\">\n",
       "  <thead>\n",
       "    <tr style=\"text-align: right;\">\n",
       "      <th></th>\n",
       "      <th>University_name</th>\n",
       "      <th>Student_satisfaction</th>\n",
       "    </tr>\n",
       "  </thead>\n",
       "  <tbody>\n",
       "    <tr>\n",
       "      <th>5</th>\n",
       "      <td>London School of Economics and Political Science</td>\n",
       "      <td>68.50%</td>\n",
       "    </tr>\n",
       "    <tr>\n",
       "      <th>29</th>\n",
       "      <td>King's College London</td>\n",
       "      <td>72.50%</td>\n",
       "    </tr>\n",
       "    <tr>\n",
       "      <th>24</th>\n",
       "      <td>University of Edinburgh</td>\n",
       "      <td>72.60%</td>\n",
       "    </tr>\n",
       "    <tr>\n",
       "      <th>99</th>\n",
       "      <td>Brunel University London</td>\n",
       "      <td>73.40%</td>\n",
       "    </tr>\n",
       "    <tr>\n",
       "      <th>48</th>\n",
       "      <td>Queen Mary University of London</td>\n",
       "      <td>74.30%</td>\n",
       "    </tr>\n",
       "    <tr>\n",
       "      <th>...</th>\n",
       "      <td>...</td>\n",
       "      <td>...</td>\n",
       "    </tr>\n",
       "    <tr>\n",
       "      <th>0</th>\n",
       "      <td>University of Cambridge</td>\n",
       "      <td>85.50%</td>\n",
       "    </tr>\n",
       "    <tr>\n",
       "      <th>4</th>\n",
       "      <td>Loughborough University</td>\n",
       "      <td>85.80%</td>\n",
       "    </tr>\n",
       "    <tr>\n",
       "      <th>44</th>\n",
       "      <td>Aberystwyth University</td>\n",
       "      <td>86.10%</td>\n",
       "    </tr>\n",
       "    <tr>\n",
       "      <th>1</th>\n",
       "      <td>University of Oxford</td>\n",
       "      <td>86.50%</td>\n",
       "    </tr>\n",
       "    <tr>\n",
       "      <th>2</th>\n",
       "      <td>University of St Andrews</td>\n",
       "      <td>87.90%</td>\n",
       "    </tr>\n",
       "  </tbody>\n",
       "</table>\n",
       "<p>63 rows × 2 columns</p>\n",
       "</div>"
      ],
      "text/plain": [
       "                                     University_name Student_satisfaction\n",
       "5   London School of Economics and Political Science               68.50%\n",
       "29                             King's College London               72.50%\n",
       "24                           University of Edinburgh               72.60%\n",
       "99                          Brunel University London               73.40%\n",
       "48                   Queen Mary University of London               74.30%\n",
       "..                                               ...                  ...\n",
       "0                            University of Cambridge               85.50%\n",
       "4                            Loughborough University               85.80%\n",
       "44                            Aberystwyth University               86.10%\n",
       "1                               University of Oxford               86.50%\n",
       "2                           University of St Andrews               87.90%\n",
       "\n",
       "[63 rows x 2 columns]"
      ]
     },
     "execution_count": 22,
     "metadata": {},
     "output_type": "execute_result"
    }
   ],
   "source": [
    "student_satifaction=df.sort_values('Student_satisfaction')\n",
    "student_satifaction.iloc[:,[0,11]]"
   ]
  },
  {
   "cell_type": "markdown",
   "id": "c5b9d898-ce6f-4bb0-9326-fec9111966dd",
   "metadata": {},
   "source": [
    "# university with same campus setting"
   ]
  },
  {
   "cell_type": "code",
   "execution_count": 23,
   "id": "32a08d07-22e0-41c5-9574-457a516ed492",
   "metadata": {},
   "outputs": [
    {
     "data": {
      "text/html": [
       "<div>\n",
       "<style scoped>\n",
       "    .dataframe tbody tr th:only-of-type {\n",
       "        vertical-align: middle;\n",
       "    }\n",
       "\n",
       "    .dataframe tbody tr th {\n",
       "        vertical-align: top;\n",
       "    }\n",
       "\n",
       "    .dataframe thead th {\n",
       "        text-align: right;\n",
       "    }\n",
       "</style>\n",
       "<table border=\"1\" class=\"dataframe\">\n",
       "  <thead>\n",
       "    <tr style=\"text-align: right;\">\n",
       "      <th></th>\n",
       "      <th>University_name</th>\n",
       "      <th>Campus_setting</th>\n",
       "    </tr>\n",
       "  </thead>\n",
       "  <tbody>\n",
       "    <tr>\n",
       "      <th>45</th>\n",
       "      <td>Keele University</td>\n",
       "      <td>Rural</td>\n",
       "    </tr>\n",
       "    <tr>\n",
       "      <th>7</th>\n",
       "      <td>Lancaster University</td>\n",
       "      <td>Rural</td>\n",
       "    </tr>\n",
       "    <tr>\n",
       "      <th>20</th>\n",
       "      <td>University of Nottingham</td>\n",
       "      <td>Suburban</td>\n",
       "    </tr>\n",
       "    <tr>\n",
       "      <th>31</th>\n",
       "      <td>University of Surrey</td>\n",
       "      <td>Suburban</td>\n",
       "    </tr>\n",
       "    <tr>\n",
       "      <th>76</th>\n",
       "      <td>University of Hull</td>\n",
       "      <td>Suburban</td>\n",
       "    </tr>\n",
       "    <tr>\n",
       "      <th>...</th>\n",
       "      <td>...</td>\n",
       "      <td>...</td>\n",
       "    </tr>\n",
       "    <tr>\n",
       "      <th>33</th>\n",
       "      <td>Cardiff University</td>\n",
       "      <td>Urban</td>\n",
       "    </tr>\n",
       "    <tr>\n",
       "      <th>118</th>\n",
       "      <td>University of Westminster</td>\n",
       "      <td>Urban</td>\n",
       "    </tr>\n",
       "    <tr>\n",
       "      <th>35</th>\n",
       "      <td>University of Strathclyde</td>\n",
       "      <td>Urban</td>\n",
       "    </tr>\n",
       "    <tr>\n",
       "      <th>48</th>\n",
       "      <td>Queen Mary University of London</td>\n",
       "      <td>Urban</td>\n",
       "    </tr>\n",
       "    <tr>\n",
       "      <th>119</th>\n",
       "      <td>Anglia Ruskin University</td>\n",
       "      <td>Urban</td>\n",
       "    </tr>\n",
       "  </tbody>\n",
       "</table>\n",
       "<p>63 rows × 2 columns</p>\n",
       "</div>"
      ],
      "text/plain": [
       "                     University_name Campus_setting\n",
       "45                  Keele University          Rural\n",
       "7               Lancaster University          Rural\n",
       "20          University of Nottingham       Suburban\n",
       "31              University of Surrey       Suburban\n",
       "76                University of Hull       Suburban\n",
       "..                               ...            ...\n",
       "33                Cardiff University          Urban\n",
       "118        University of Westminster          Urban\n",
       "35         University of Strathclyde          Urban\n",
       "48   Queen Mary University of London          Urban\n",
       "119         Anglia Ruskin University          Urban\n",
       "\n",
       "[63 rows x 2 columns]"
      ]
     },
     "execution_count": 23,
     "metadata": {},
     "output_type": "execute_result"
    }
   ],
   "source": [
    "campussetting=df.sort_values('Campus_setting')\n",
    "campussetting.iloc[:,[0,16]]"
   ]
  },
  {
   "cell_type": "markdown",
   "id": "07dee424-75b3-4a6c-bb22-0870d53e2647",
   "metadata": {},
   "source": [
    "# university with control type"
   ]
  },
  {
   "cell_type": "code",
   "execution_count": 24,
   "id": "7afda2d1-4ac1-40f0-9b29-48e744a96d40",
   "metadata": {},
   "outputs": [
    {
     "data": {
      "text/html": [
       "<div>\n",
       "<style scoped>\n",
       "    .dataframe tbody tr th:only-of-type {\n",
       "        vertical-align: middle;\n",
       "    }\n",
       "\n",
       "    .dataframe tbody tr th {\n",
       "        vertical-align: top;\n",
       "    }\n",
       "\n",
       "    .dataframe thead th {\n",
       "        text-align: right;\n",
       "    }\n",
       "</style>\n",
       "<table border=\"1\" class=\"dataframe\">\n",
       "  <thead>\n",
       "    <tr style=\"text-align: right;\">\n",
       "      <th></th>\n",
       "      <th>University_name</th>\n",
       "      <th>Control_type</th>\n",
       "    </tr>\n",
       "  </thead>\n",
       "  <tbody>\n",
       "    <tr>\n",
       "      <th>0</th>\n",
       "      <td>University of Cambridge</td>\n",
       "      <td>Public</td>\n",
       "    </tr>\n",
       "    <tr>\n",
       "      <th>36</th>\n",
       "      <td>University of Essex</td>\n",
       "      <td>Public</td>\n",
       "    </tr>\n",
       "    <tr>\n",
       "      <th>40</th>\n",
       "      <td>University of Leicester</td>\n",
       "      <td>Public</td>\n",
       "    </tr>\n",
       "    <tr>\n",
       "      <th>44</th>\n",
       "      <td>Aberystwyth University</td>\n",
       "      <td>Public</td>\n",
       "    </tr>\n",
       "    <tr>\n",
       "      <th>45</th>\n",
       "      <td>Keele University</td>\n",
       "      <td>Public</td>\n",
       "    </tr>\n",
       "    <tr>\n",
       "      <th>...</th>\n",
       "      <td>...</td>\n",
       "      <td>...</td>\n",
       "    </tr>\n",
       "    <tr>\n",
       "      <th>28</th>\n",
       "      <td>University of Liverpool</td>\n",
       "      <td>Public</td>\n",
       "    </tr>\n",
       "    <tr>\n",
       "      <th>29</th>\n",
       "      <td>King's College London</td>\n",
       "      <td>Public</td>\n",
       "    </tr>\n",
       "    <tr>\n",
       "      <th>30</th>\n",
       "      <td>Swansea University</td>\n",
       "      <td>Public</td>\n",
       "    </tr>\n",
       "    <tr>\n",
       "      <th>15</th>\n",
       "      <td>University of Glasgow</td>\n",
       "      <td>Public</td>\n",
       "    </tr>\n",
       "    <tr>\n",
       "      <th>119</th>\n",
       "      <td>Anglia Ruskin University</td>\n",
       "      <td>Public</td>\n",
       "    </tr>\n",
       "  </tbody>\n",
       "</table>\n",
       "<p>63 rows × 2 columns</p>\n",
       "</div>"
      ],
      "text/plain": [
       "              University_name Control_type\n",
       "0     University of Cambridge       Public\n",
       "36        University of Essex       Public\n",
       "40    University of Leicester       Public\n",
       "44     Aberystwyth University       Public\n",
       "45           Keele University       Public\n",
       "..                        ...          ...\n",
       "28    University of Liverpool       Public\n",
       "29      King's College London       Public\n",
       "30         Swansea University       Public\n",
       "15      University of Glasgow       Public\n",
       "119  Anglia Ruskin University       Public\n",
       "\n",
       "[63 rows x 2 columns]"
      ]
     },
     "execution_count": 24,
     "metadata": {},
     "output_type": "execute_result"
    }
   ],
   "source": [
    "ctrlType=df.sort_values('Control_type')\n",
    "ctrlType.iloc[:,[0,14]]"
   ]
  },
  {
   "cell_type": "markdown",
   "id": "ef5f30b1-f304-4b1d-8092-9a2ae42e336f",
   "metadata": {},
   "source": [
    "# cost of living in descending order"
   ]
  },
  {
   "cell_type": "code",
   "execution_count": 25,
   "id": "8dd65700-5da2-45ff-a41e-f1b55aa7d6f0",
   "metadata": {},
   "outputs": [
    {
     "data": {
      "text/html": [
       "<div>\n",
       "<style scoped>\n",
       "    .dataframe tbody tr th:only-of-type {\n",
       "        vertical-align: middle;\n",
       "    }\n",
       "\n",
       "    .dataframe tbody tr th {\n",
       "        vertical-align: top;\n",
       "    }\n",
       "\n",
       "    .dataframe thead th {\n",
       "        text-align: right;\n",
       "    }\n",
       "</style>\n",
       "<table border=\"1\" class=\"dataframe\">\n",
       "  <thead>\n",
       "    <tr style=\"text-align: right;\">\n",
       "      <th></th>\n",
       "      <th>University_name</th>\n",
       "      <th>Estimated_cost_of_living_per_year_(in_pounds)</th>\n",
       "    </tr>\n",
       "  </thead>\n",
       "  <tbody>\n",
       "    <tr>\n",
       "      <th>0</th>\n",
       "      <td>University of Cambridge</td>\n",
       "      <td>12000</td>\n",
       "    </tr>\n",
       "    <tr>\n",
       "      <th>2</th>\n",
       "      <td>University of St Andrews</td>\n",
       "      <td>12000</td>\n",
       "    </tr>\n",
       "    <tr>\n",
       "      <th>5</th>\n",
       "      <td>London School of Economics and Political Science</td>\n",
       "      <td>12000</td>\n",
       "    </tr>\n",
       "    <tr>\n",
       "      <th>21</th>\n",
       "      <td>University of York</td>\n",
       "      <td>11789</td>\n",
       "    </tr>\n",
       "    <tr>\n",
       "      <th>1</th>\n",
       "      <td>University of Oxford</td>\n",
       "      <td>11500</td>\n",
       "    </tr>\n",
       "    <tr>\n",
       "      <th>...</th>\n",
       "      <td>...</td>\n",
       "      <td>...</td>\n",
       "    </tr>\n",
       "    <tr>\n",
       "      <th>46</th>\n",
       "      <td>University of Stirling</td>\n",
       "      <td>7000</td>\n",
       "    </tr>\n",
       "    <tr>\n",
       "      <th>23</th>\n",
       "      <td>University of Dundee</td>\n",
       "      <td>6500</td>\n",
       "    </tr>\n",
       "    <tr>\n",
       "      <th>56</th>\n",
       "      <td>University of Portsmouth</td>\n",
       "      <td>6500</td>\n",
       "    </tr>\n",
       "    <tr>\n",
       "      <th>34</th>\n",
       "      <td>Queen's University Belfast</td>\n",
       "      <td>6000</td>\n",
       "    </tr>\n",
       "    <tr>\n",
       "      <th>47</th>\n",
       "      <td>Aston University</td>\n",
       "      <td>6000</td>\n",
       "    </tr>\n",
       "  </tbody>\n",
       "</table>\n",
       "<p>63 rows × 2 columns</p>\n",
       "</div>"
      ],
      "text/plain": [
       "                                     University_name  \\\n",
       "0                            University of Cambridge   \n",
       "2                           University of St Andrews   \n",
       "5   London School of Economics and Political Science   \n",
       "21                                University of York   \n",
       "1                               University of Oxford   \n",
       "..                                               ...   \n",
       "46                            University of Stirling   \n",
       "23                              University of Dundee   \n",
       "56                          University of Portsmouth   \n",
       "34                        Queen's University Belfast   \n",
       "47                                  Aston University   \n",
       "\n",
       "    Estimated_cost_of_living_per_year_(in_pounds)  \n",
       "0                                           12000  \n",
       "2                                           12000  \n",
       "5                                           12000  \n",
       "21                                          11789  \n",
       "1                                           11500  \n",
       "..                                            ...  \n",
       "46                                           7000  \n",
       "23                                           6500  \n",
       "56                                           6500  \n",
       "34                                           6000  \n",
       "47                                           6000  \n",
       "\n",
       "[63 rows x 2 columns]"
      ]
     },
     "execution_count": 25,
     "metadata": {},
     "output_type": "execute_result"
    }
   ],
   "source": [
    "costofliving=df.sort_values('Estimated_cost_of_living_per_year_(in_pounds)',ascending=False)\n",
    "costofliving.iloc[:,[0,17]]"
   ]
  },
  {
   "cell_type": "code",
   "execution_count": 26,
   "id": "d2d490dd-a84e-45dc-a077-7ee4647b1dfe",
   "metadata": {},
   "outputs": [
    {
     "name": "stdout",
     "output_type": "stream",
     "text": [
      "<class 'pandas.core.frame.DataFrame'>\n",
      "Index: 63 entries, 0 to 119\n",
      "Data columns (total 21 columns):\n",
      " #   Column                                         Non-Null Count  Dtype  \n",
      "---  ------                                         --------------  -----  \n",
      " 0   University_name                                63 non-null     object \n",
      " 1   Region                                         63 non-null     object \n",
      " 2   Founded_year                                   63 non-null     int64  \n",
      " 3   Motto                                          63 non-null     object \n",
      " 4   UK_rank                                        63 non-null     int64  \n",
      " 5   World_rank                                     63 non-null     int64  \n",
      " 6   CWUR_score                                     63 non-null     float64\n",
      " 7   Minimum_IELTS_score                            63 non-null     float64\n",
      " 8   UG_average_fees_(in_pounds)                    63 non-null     int64  \n",
      " 9   PG_average_fees_(in_pounds)                    63 non-null     int64  \n",
      " 10  International_students                         63 non-null     object \n",
      " 11  Student_satisfaction                           63 non-null     object \n",
      " 12  Student_enrollment                             63 non-null     object \n",
      " 13  Academic_staff                                 63 non-null     object \n",
      " 14  Control_type                                   63 non-null     object \n",
      " 15  Academic_Calender                              63 non-null     object \n",
      " 16  Campus_setting                                 63 non-null     object \n",
      " 17  Estimated_cost_of_living_per_year_(in_pounds)  63 non-null     int64  \n",
      " 18  Latitude                                       63 non-null     float64\n",
      " 19  Longitude                                      63 non-null     float64\n",
      " 20  Website                                        63 non-null     object \n",
      "dtypes: float64(4), int64(6), object(11)\n",
      "memory usage: 10.8+ KB\n"
     ]
    }
   ],
   "source": [
    "df.info()"
   ]
  },
  {
   "cell_type": "code",
   "execution_count": 27,
   "id": "707faead-e797-49bd-b369-10cb062eeec5",
   "metadata": {},
   "outputs": [
    {
     "data": {
      "text/plain": [
       "array(['East of England', 'South East England', 'Scotland', 'London',\n",
       "       'East Midlands', 'North East England', 'North West England',\n",
       "       'West Midlands', 'South West England', 'Yorkshire and the Humber',\n",
       "       'Wales', 'Northern Ireland'], dtype=object)"
      ]
     },
     "execution_count": 27,
     "metadata": {},
     "output_type": "execute_result"
    }
   ],
   "source": [
    "df.Region.unique()"
   ]
  },
  {
   "cell_type": "code",
   "execution_count": 28,
   "id": "02ba1203-3d2a-4e10-b10b-0e9abc96476b",
   "metadata": {},
   "outputs": [
    {
     "data": {
      "text/plain": [
       "Region\n",
       "Scotland                    10\n",
       "London                       9\n",
       "South East England           7\n",
       "East of England              6\n",
       "North West England           6\n",
       "Yorkshire and the Humber     6\n",
       "West Midlands                5\n",
       "South West England           4\n",
       "East Midlands                3\n",
       "North East England           3\n",
       "Wales                        3\n",
       "Northern Ireland             1\n",
       "Name: count, dtype: int64"
      ]
     },
     "execution_count": 28,
     "metadata": {},
     "output_type": "execute_result"
    }
   ],
   "source": [
    "df.Region.value_counts()"
   ]
  },
  {
   "cell_type": "markdown",
   "id": "bc862176-99b4-4e66-990d-80bcae80dce1",
   "metadata": {},
   "source": [
    "\n",
    "# Visualization"
   ]
  },
  {
   "cell_type": "code",
   "execution_count": 29,
   "id": "a8b2ed7e-757e-4427-b62a-fab964faa1d1",
   "metadata": {},
   "outputs": [
    {
     "data": {
      "image/png": "[encoded data removed]",
      "text/plain": [
       "<Figure size 3000x1200 with 1 Axes>"
      ]
     },
     "metadata": {},
     "output_type": "display_data"
    }
   ],
   "source": [
    "region = df.Region.value_counts()\n",
    "\n",
    "plt.figure(figsize=(30,12))\n",
    "sns.barplot(data=region)\n",
    "plt.title('Distribution Of Region')\n",
    "plt.show()\n"
   ]
  },
  {
   "cell_type": "markdown",
   "id": "ccb42cba-512e-4f16-9728-d14b501aeb04",
   "metadata": {},
   "source": [
    "# Task 1 Understand your numeric data How is it distributed.\n",
    "\n",
    "Question 1: How is year distributed?</br> Question 2: How is Uk_rank distributed?</br> Question 3: How is World_rank distributed?</br> Question 4: How is Cwur_Score distributed?</br> Question 5: Use for loop to draw the distribution plots for the following columns = ['CWUR_score', 'Minimum_IELTS_score', 'UG_averagefees(in_pounds)', 'PG_averagefees(in_pounds)']</br>"
   ]
  },
  {
   "cell_type": "markdown",
   "id": "224d1ea2-b3d3-466c-b656-4ddcc506955a",
   "metadata": {},
   "source": [
    "# Question1:How is year distributed?"
   ]
  },
  {
   "cell_type": "code",
   "execution_count": 30,
   "id": "8ec0d1bb-d8e6-419f-8932-552fb103e8d8",
   "metadata": {},
   "outputs": [
    {
     "data": {
      "text/plain": [
       "<Axes: xlabel='Founded_year', ylabel='Count'>"
      ]
     },
     "execution_count": 30,
     "metadata": {},
     "output_type": "execute_result"
    },
    {
     "data": {
      "image/png": "[encoded data removed]",
      "text/plain": [
       "<Figure size 640x480 with 1 Axes>"
      ]
     },
     "metadata": {},
     "output_type": "display_data"
    }
   ],
   "source": [
    "sns.histplot(df.Founded_year)"
   ]
  },
  {
   "cell_type": "markdown",
   "id": "3c298899-b3fe-46de-8569-47726611342b",
   "metadata": {},
   "source": [
    "# Question 2: How is Uk_rank distributed?"
   ]
  },
  {
   "cell_type": "code",
   "execution_count": 31,
   "id": "85be5a94-0a2b-464d-b792-c7fa13a4211f",
   "metadata": {},
   "outputs": [
    {
     "data": {
      "text/plain": [
       "<Axes: xlabel='UK_rank', ylabel='Count'>"
      ]
     },
     "execution_count": 31,
     "metadata": {},
     "output_type": "execute_result"
    },
    {
     "data": {
      "image/png": "[encoded data removed]",
      "text/plain": [
       "<Figure size 640x480 with 1 Axes>"
      ]
     },
     "metadata": {},
     "output_type": "display_data"
    }
   ],
   "source": [
    "sns.histplot(df.UK_rank)"
   ]
  },
  {
   "cell_type": "markdown",
   "id": "59a8654f-a18c-4858-b3fa-0e6f373bc1b3",
   "metadata": {},
   "source": [
    "# Question 3: How is World_rank distributed?"
   ]
  },
  {
   "cell_type": "code",
   "execution_count": 32,
   "id": "4f07dadd-c056-4075-b497-c5299238c107",
   "metadata": {},
   "outputs": [
    {
     "data": {
      "text/plain": [
       "<Axes: xlabel='World_rank', ylabel='Count'>"
      ]
     },
     "execution_count": 32,
     "metadata": {},
     "output_type": "execute_result"
    },
    {
     "data": {
      "image/png": "[encoded data removed]",
      "text/plain": [
       "<Figure size 640x480 with 1 Axes>"
      ]
     },
     "metadata": {},
     "output_type": "display_data"
    }
   ],
   "source": [
    "sns.histplot(df.World_rank)"
   ]
  },
  {
   "cell_type": "markdown",
   "id": "a15dc1f1-25b4-4382-a533-a4cbd38ced5d",
   "metadata": {},
   "source": [
    "# Question 4: How is Cwur_Score distributed?"
   ]
  },
  {
   "cell_type": "code",
   "execution_count": 33,
   "id": "cffa9bb8-9d11-4071-8403-769ece14dee8",
   "metadata": {},
   "outputs": [
    {
     "data": {
      "text/plain": [
       "<Axes: xlabel='CWUR_score', ylabel='Count'>"
      ]
     },
     "execution_count": 33,
     "metadata": {},
     "output_type": "execute_result"
    },
    {
     "data": {
      "image/png": "[encoded data removed]",
      "text/plain": [
       "<Figure size 640x480 with 1 Axes>"
      ]
     },
     "metadata": {},
     "output_type": "display_data"
    }
   ],
   "source": [
    "sns.histplot(df.CWUR_score)"
   ]
  },
  {
   "cell_type": "markdown",
   "id": "871da111-b379-41c8-8020-9a7e98df958e",
   "metadata": {},
   "source": [
    "# Question 5: Use for loop to draw the distribution plots for the following columns = ['CWUR_score', 'Minimum_IELTS_score', 'UG_averagefees(in_pounds)', 'PG_averagefees(in_pounds)']"
   ]
  },
  {
   "cell_type": "code",
   "execution_count": 34,
   "id": "e6966a7b-8b3b-48cd-89b9-719355605e5e",
   "metadata": {},
   "outputs": [
    {
     "data": {
      "image/png": "[encoded data removed]",
      "text/plain": [
       "<Figure size 1200x800 with 4 Axes>"
      ]
     },
     "metadata": {},
     "output_type": "display_data"
    }
   ],
   "source": [
    "plt.figure(figsize=(12,8))\n",
    "plt.suptitle('Distribution of the Columns')\n",
    "\n",
    "columns = ['CWUR_score', 'Minimum_IELTS_score', 'UG_average_fees_(in_pounds)', 'PG_average_fees_(in_pounds)']\n",
    "for i in range(len(columns)):\n",
    "    plt.subplot(2,2,i+1)\n",
    "    sns.kdeplot(x=df[columns[i]],shade=True,color='r')\n",
    "    plt.xlabel(columns[i])\n",
    "    plt.tight_layout()"
   ]
  },
  {
   "cell_type": "markdown",
   "id": "32f9b351-fbb5-4ed0-8a7b-fc78477bb75a",
   "metadata": {},
   "source": [
    "# Task 2: Relationship of numeric to numeric variables\n",
    "\n",
    "Using jointplots: While jointplots may not show any linear relationship, they can show by use of contour plots, given X, probable Y through high density areas.\n",
    "\n",
    "Question 6:Show joint distribution of 'CWUR_Score' and 'Minimum IELTS_score?</br> Question 7: Show joint distribution of 'UG_averagefees(in_pounds)' and PG_averagefees(in_pounds)</br> \n"
   ]
  },
  {
   "cell_type": "markdown",
   "id": "194084fe-2e6e-47d0-8ad4-9536ca723c46",
   "metadata": {},
   "source": [
    "# Question 6:Show Scatter distribution of 'CWUR_Score' and 'Minimum IELTS_score?"
   ]
  },
  {
   "cell_type": "code",
   "execution_count": 35,
   "id": "7efea37c-349f-4dce-ad94-dce3d164fd46",
   "metadata": {},
   "outputs": [
    {
     "data": {
      "text/plain": [
       "<Axes: xlabel='CWUR_score', ylabel='Minimum_IELTS_score'>"
      ]
     },
     "execution_count": 35,
     "metadata": {},
     "output_type": "execute_result"
    },
    {
     "data": {
      "image/png": "[encoded data removed]",
      "text/plain": [
       "<Figure size 640x480 with 1 Axes>"
      ]
     },
     "metadata": {},
     "output_type": "display_data"
    }
   ],
   "source": [
    "sns.scatterplot(x=df.CWUR_score,y=df.Minimum_IELTS_score)\n"
   ]
  },
  {
   "cell_type": "markdown",
   "id": "9e075081-2932-4b9d-9e98-d0ff85923c6e",
   "metadata": {},
   "source": [
    "# Question 7: Show Bar distribution of 'International_students' and 'Student_enrollment')"
   ]
  },
  {
   "cell_type": "code",
   "execution_count": 36,
   "id": "2c839edb-f7bc-45bb-9c82-2dd48dd27529",
   "metadata": {},
   "outputs": [
    {
     "data": {
      "text/plain": [
       "<Figure size 2400x1200 with 0 Axes>"
      ]
     },
     "metadata": {},
     "output_type": "display_data"
    },
    {
     "data": {
      "image/png": "[encoded data removed]",
      "text/plain": [
       "<Figure size 600x600 with 3 Axes>"
      ]
     },
     "metadata": {},
     "output_type": "display_data"
    }
   ],
   "source": [
    "plt.figure(figsize=(24,12))\n",
    "sns.jointplot(x=df.International_students,y=df.Student_enrollment)\n",
    "plt.show()"
   ]
  },
  {
   "cell_type": "markdown",
   "id": "ce4f9352-a62b-42f0-badb-82d0bccd5d92",
   "metadata": {},
   "source": [
    "# Replationship plots\n",
    "## Relationship of a categorical to another categorical variable"
   ]
  },
  {
   "cell_type": "code",
   "execution_count": 37,
   "id": "22b71d89-ae67-46fa-8cbf-77333d6dc407",
   "metadata": {},
   "outputs": [
    {
     "data": {
      "text/plain": [
       "(np.float64(-0.5), np.float64(2.5), np.float64(0.0), np.float64(25000.0))"
      ]
     },
     "execution_count": 37,
     "metadata": {},
     "output_type": "execute_result"
    },
    {
     "data": {
      "image/png": "[encoded data removed]",
      "text/plain": [
       "<Figure size 800x600 with 1 Axes>"
      ]
     },
     "metadata": {},
     "output_type": "display_data"
    }
   ],
   "source": [
    "num = 'UG_average_fees_(in_pounds)'\n",
    "cat =  'Campus_setting'\n",
    "df =  df\n",
    "\n",
    "data = pd.concat([df[num],df[cat]],axis=1)\n",
    "\n",
    "\n",
    "plt.figure(figsize=(8,6))\n",
    "fig=sns.boxplot(x=cat,y=num,data=data,palette='Set1')\n",
    "fig.axis(ymin=0,ymax=25000)\n"
   ]
  },
  {
   "cell_type": "code",
   "execution_count": 38,
   "id": "2c2afb1d-ed98-4dc4-bbb3-5d9b55c93a47",
   "metadata": {},
   "outputs": [
    {
     "data": {
      "text/plain": [
       "(np.float64(-0.5), np.float64(11.5), np.float64(0.0), np.float64(25000.0))"
      ]
     },
     "execution_count": 38,
     "metadata": {},
     "output_type": "execute_result"
    },
    {
     "data": {
      "image/png": "[encoded data removed]",
      "text/plain": [
       "<Figure size 2400x1200 with 1 Axes>"
      ]
     },
     "metadata": {},
     "output_type": "display_data"
    }
   ],
   "source": [
    "region='Region'\n",
    "plt.figure(figsize=(24,12))\n",
    "data = pd.concat([df[num],df[region]],axis=1)\n",
    "fig=sns.boxplot(x=region,y=num,data=data,palette='Set2')\n",
    "fig.axis(ymin=0,ymax=25000)"
   ]
  },
  {
   "cell_type": "code",
   "execution_count": 39,
   "id": "054df66a-d324-4d6c-9ae6-59a136d76ae1",
   "metadata": {},
   "outputs": [],
   "source": [
    "mv=df.isnull().sum()"
   ]
  },
  {
   "cell_type": "code",
   "execution_count": 40,
   "id": "eefc4bcc-eaa5-4864-943d-3549d28af919",
   "metadata": {},
   "outputs": [
    {
     "data": {
      "text/html": [
       "<div>\n",
       "<style scoped>\n",
       "    .dataframe tbody tr th:only-of-type {\n",
       "        vertical-align: middle;\n",
       "    }\n",
       "\n",
       "    .dataframe tbody tr th {\n",
       "        vertical-align: top;\n",
       "    }\n",
       "\n",
       "    .dataframe thead th {\n",
       "        text-align: right;\n",
       "    }\n",
       "</style>\n",
       "<table border=\"1\" class=\"dataframe\">\n",
       "  <thead>\n",
       "    <tr style=\"text-align: right;\">\n",
       "      <th></th>\n",
       "      <th>Total Missing Count</th>\n",
       "      <th>% of Total Observations</th>\n",
       "    </tr>\n",
       "    <tr>\n",
       "      <th>Feature Name</th>\n",
       "      <th></th>\n",
       "      <th></th>\n",
       "    </tr>\n",
       "  </thead>\n",
       "  <tbody>\n",
       "  </tbody>\n",
       "</table>\n",
       "</div>"
      ],
      "text/plain": [
       "Empty DataFrame\n",
       "Columns: [Total Missing Count, % of Total Observations]\n",
       "Index: []"
      ]
     },
     "execution_count": 40,
     "metadata": {},
     "output_type": "execute_result"
    }
   ],
   "source": [
    "def getMissingValuesInfo(df):\n",
    "    total = df.isnull().sum().sort_values(ascending = False)\n",
    "    percent = round(df.isnull().sum().sort_values(ascending = False)/len(df)*100, 2)\n",
    "    temp = pd.concat([total, percent], axis = 1,keys= ['Total Missing Count', '% of Total Observations'])\n",
    "    temp.index.name ='Feature Name'\n",
    "    return temp.loc[(temp['Total Missing Count'] > 0)]\n",
    "\n",
    "getMissingValuesInfo(df)"
   ]
  },
  {
   "cell_type": "code",
   "execution_count": 41,
   "id": "4d35df74-f134-4513-96f1-7405784992ef",
   "metadata": {},
   "outputs": [
    {
     "data": {
      "image/png": "[encoded data removed]",
      "text/plain": [
       "<Figure size 1500x500 with 1 Axes>"
      ]
     },
     "metadata": {},
     "output_type": "display_data"
    }
   ],
   "source": [
    "missing = df.isnull().sum()\n",
    "missing = missing[missing > 0]\n",
    "missing.sort_values(inplace=True)\n",
    "plt.figure(figsize=(15,5))\n",
    "sns.barplot(data=missing,palette='Set2')\n",
    "plt.show()"
   ]
  },
  {
   "cell_type": "code",
   "execution_count": 42,
   "id": "5072620e-f6fd-462d-88ba-c53a54550c47",
   "metadata": {},
   "outputs": [],
   "source": [
    "df.to_csv(\"UK Universities CLEANED\")"
   ]
  },
  {
   "cell_type": "code",
   "execution_count": null,
   "id": "65b66837-ae34-456f-9dd9-7cd59806bba5",
   "metadata": {},
   "outputs": [],
   "source": []
  }
 ],
 "metadata": {
  "kernelspec": {
   "display_name": "Python 3 (ipykernel)",
   "language": "python",
   "name": "python3"
  },
  "language_info": {
   "codemirror_mode": {
    "name": "ipython",
    "version": 3
   },
   "file_extension": ".py",
   "mimetype": "text/x-python",
   "name": "python",
   "nbconvert_exporter": "python",
   "pygments_lexer": "ipython3",
   "version": "3.13.2"
  }
 },
 "nbformat": 4,
 "nbformat_minor": 5
}
